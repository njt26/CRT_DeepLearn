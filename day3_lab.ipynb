{
 "cells": [
  {
   "cell_type": "markdown",
   "metadata": {},
   "source": [
    "# Lab 3: Hunting for DNA binding motifs"
   ]
  },
  {
   "cell_type": "markdown",
   "metadata": {},
   "source": [
    "In this class we will work through an exercise based on a tutorial associated with Zou et al. (2019), 'A primer on deep learning in genomics', *Nature Genetics* **51**, pp. 12-18 (https://doi.org/10.1038/s41588-018-0295-5).\n",
    "\n",
    "The ultimate aim is to find a binding motif for a given transcription factor by analysing the (simulated) results of an assay that determines whether various long DNA sequences bind to the transcription factor or not. NB that a long sequence binds if it contains the binding motif, or minor variant of it, *somewhere*.\n",
    "\n",
    "As a first step, we will train a neural network to recognise DNA sequences that are likely to bind. (This is a supervised learning problem.) Then we will try to determine the motif by *interpreting* the network.\n",
    "\n",
    "I have added some noise to Zou et al.'s simulated data to make the classification problem a bit harder and a bit more realistic. Do not expect every binding sequence to contain *exactly* the same motif."
   ]
  },
  {
   "cell_type": "code",
   "execution_count": 1,
   "metadata": {},
   "outputs": [],
   "source": [
    "import numpy as np\n",
    "import matplotlib.pyplot as plt"
   ]
  },
  {
   "cell_type": "markdown",
   "metadata": {},
   "source": [
    "### Read in sequences and labels"
   ]
  },
  {
   "cell_type": "code",
   "execution_count": 2,
   "metadata": {},
   "outputs": [],
   "source": [
    "sequences = []\n",
    "labels = []\n",
    "with open('seq_data.txt', 'r') as f:\n",
    "    for line in f:\n",
    "        labels.append(line[0])\n",
    "        sequences.append(line[1:-1]) # append sequence, dropping terminal linebreak character (\\n)a"
   ]
  },
  {
   "cell_type": "code",
   "execution_count": 3,
   "metadata": {
    "scrolled": true
   },
   "outputs": [
    {
     "data": {
      "text/plain": [
       "['CCGAGGGCTATGGTTTGGAAGTTAGAACCCTGGGGCTTCTCGCGGACACC',\n",
       " 'GAGTTTATATGGCGCGAGCCTAGTGGTTTTTGTACTTGTTTGTCGCGTCG',\n",
       " 'GATCAGTAGGGAAACAAACAGAGGGCCCAGCCACATCTAGCAGGTAGCCT',\n",
       " 'GTCCACGACCGAAGCTCCCACCTTGACCGCAGAGGTACCACCAGAGCCCT',\n",
       " 'GGCGACCGAACTTCCAACTAGAACCTGCATAACTGGCCTGGGAGATATGG']"
      ]
     },
     "execution_count": 3,
     "metadata": {},
     "output_type": "execute_result"
    }
   ],
   "source": [
    "sequences[:5]"
   ]
  },
  {
   "cell_type": "code",
   "execution_count": 4,
   "metadata": {},
   "outputs": [
    {
     "data": {
      "text/plain": [
       "['0', '0', '0', '1', '1']"
      ]
     },
     "execution_count": 4,
     "metadata": {},
     "output_type": "execute_result"
    }
   ],
   "source": [
    "# '0' means no binding; '1' means binding\n",
    "labels[:5]"
   ]
  },
  {
   "cell_type": "markdown",
   "metadata": {},
   "source": [
    "### One-hot encoding of nucleotides and labels"
   ]
  },
  {
   "cell_type": "markdown",
   "metadata": {},
   "source": [
    "We'll begin by going through a toy example of sequence encoding."
   ]
  },
  {
   "cell_type": "code",
   "execution_count": 5,
   "metadata": {},
   "outputs": [],
   "source": [
    "toy_sequence = list('ATAGC')"
   ]
  },
  {
   "cell_type": "code",
   "execution_count": 6,
   "metadata": {},
   "outputs": [
    {
     "data": {
      "text/plain": [
       "['A', 'T', 'A', 'G', 'C']"
      ]
     },
     "execution_count": 6,
     "metadata": {},
     "output_type": "execute_result"
    }
   ],
   "source": [
    "toy_sequence"
   ]
  },
  {
   "cell_type": "markdown",
   "metadata": {},
   "source": [
    "We'll convert this to a list of one-hot vectors, by way of a list of integers."
   ]
  },
  {
   "cell_type": "code",
   "execution_count": 9,
   "metadata": {},
   "outputs": [],
   "source": [
    "from sklearn.preprocessing import LabelEncoder, OneHotEncoder"
   ]
  },
  {
   "cell_type": "code",
   "execution_count": 10,
   "metadata": {},
   "outputs": [],
   "source": [
    "# create new LabelEncoder object\n",
    "le = LabelEncoder()"
   ]
  },
  {
   "cell_type": "code",
   "execution_count": 11,
   "metadata": {},
   "outputs": [],
   "source": [
    "# can do fit (define mapping) and transform (apply the mapping) in separate steps, but\n",
    "# the fit_transform method is more convenient\n",
    "integer_encoded = le.fit_transform(toy_sequence)"
   ]
  },
  {
   "cell_type": "code",
   "execution_count": 12,
   "metadata": {},
   "outputs": [
    {
     "data": {
      "text/plain": [
       "array([0, 3, 0, 2, 1])"
      ]
     },
     "execution_count": 12,
     "metadata": {},
     "output_type": "execute_result"
    }
   ],
   "source": [
    "integer_encoded"
   ]
  },
  {
   "cell_type": "code",
   "execution_count": 13,
   "metadata": {},
   "outputs": [],
   "source": [
    "# create new OneHotEncoder object\n",
    "ohe = OneHotEncoder(categories='auto')"
   ]
  },
  {
   "cell_type": "code",
   "execution_count": 14,
   "metadata": {},
   "outputs": [
    {
     "data": {
      "text/plain": [
       "array([[0],\n",
       "       [3],\n",
       "       [0],\n",
       "       [2],\n",
       "       [1]])"
      ]
     },
     "execution_count": 14,
     "metadata": {},
     "output_type": "execute_result"
    }
   ],
   "source": [
    "integer_encoded.reshape(5,1)"
   ]
  },
  {
   "cell_type": "code",
   "execution_count": 15,
   "metadata": {},
   "outputs": [
    {
     "data": {
      "text/plain": [
       "array([[0],\n",
       "       [3],\n",
       "       [0],\n",
       "       [2],\n",
       "       [1]])"
      ]
     },
     "execution_count": 15,
     "metadata": {},
     "output_type": "execute_result"
    }
   ],
   "source": [
    "integer_encoded.reshape(-1,1)"
   ]
  },
  {
   "cell_type": "code",
   "execution_count": 16,
   "metadata": {},
   "outputs": [],
   "source": [
    "# NB the required shape: cases by rows. Here we have just one column.\n",
    "oh_encoded = ohe.fit_transform(integer_encoded.reshape(-1,1))"
   ]
  },
  {
   "cell_type": "code",
   "execution_count": 17,
   "metadata": {},
   "outputs": [
    {
     "data": {
      "text/plain": [
       "<5x4 sparse matrix of type '<class 'numpy.float64'>'\n",
       "\twith 5 stored elements in Compressed Sparse Row format>"
      ]
     },
     "execution_count": 17,
     "metadata": {},
     "output_type": "execute_result"
    }
   ],
   "source": [
    "oh_encoded"
   ]
  },
  {
   "cell_type": "markdown",
   "metadata": {},
   "source": [
    "Annoying sparse matrix data type! Useful for saving memory if each one-hot vector is long (lots of zeros) and there are a lot of them. But here we'll convert immediately to a normal NumPy array."
   ]
  },
  {
   "cell_type": "code",
   "execution_count": 18,
   "metadata": {},
   "outputs": [],
   "source": [
    "oh_encoded = oh_encoded.toarray()"
   ]
  },
  {
   "cell_type": "code",
   "execution_count": 19,
   "metadata": {},
   "outputs": [
    {
     "data": {
      "text/plain": [
       "array([[1., 0., 0., 0.],\n",
       "       [0., 0., 0., 1.],\n",
       "       [1., 0., 0., 0.],\n",
       "       [0., 0., 1., 0.],\n",
       "       [0., 1., 0., 0.]])"
      ]
     },
     "execution_count": 19,
     "metadata": {},
     "output_type": "execute_result"
    }
   ],
   "source": [
    "oh_encoded"
   ]
  },
  {
   "cell_type": "markdown",
   "metadata": {},
   "source": [
    "You should think of the above as analogous to this:"
   ]
  },
  {
   "cell_type": "code",
   "execution_count": 20,
   "metadata": {},
   "outputs": [
    {
     "data": {
      "text/plain": [
       "array([['A'],\n",
       "       ['T'],\n",
       "       ['A'],\n",
       "       ['G'],\n",
       "       ['C']], dtype='<U1')"
      ]
     },
     "execution_count": 20,
     "metadata": {},
     "output_type": "execute_result"
    }
   ],
   "source": [
    "np.array(list(toy_sequence)).reshape(-1,1)"
   ]
  },
  {
   "cell_type": "markdown",
   "metadata": {},
   "source": [
    "Now we'll go on to preprocess the actual data."
   ]
  },
  {
   "cell_type": "code",
   "execution_count": 21,
   "metadata": {},
   "outputs": [],
   "source": [
    "integer_encoded = [le.fit_transform(list(sequence)).reshape(-1,1) for sequence in sequences]\n",
    "# list of input items for the CNN we build below\n",
    "input_features = np.array([ohe.fit_transform(item).toarray() for item in integer_encoded])"
   ]
  },
  {
   "cell_type": "markdown",
   "metadata": {},
   "source": [
    "Here, for example, is the first item of input data. Think of it as a 1-dimensional image of length 50, with four 'channels' corresponding to nucleotide types A, C, G and T. (In computer vision problems, the input channels would often be colours.)"
   ]
  },
  {
   "cell_type": "code",
   "execution_count": 22,
   "metadata": {},
   "outputs": [
    {
     "data": {
      "text/plain": [
       "array([[0., 1., 0., 0.],\n",
       "       [0., 1., 0., 0.],\n",
       "       [0., 0., 1., 0.],\n",
       "       [1., 0., 0., 0.],\n",
       "       [0., 0., 1., 0.],\n",
       "       [0., 0., 1., 0.],\n",
       "       [0., 0., 1., 0.],\n",
       "       [0., 1., 0., 0.],\n",
       "       [0., 0., 0., 1.],\n",
       "       [1., 0., 0., 0.],\n",
       "       [0., 0., 0., 1.],\n",
       "       [0., 0., 1., 0.],\n",
       "       [0., 0., 1., 0.],\n",
       "       [0., 0., 0., 1.],\n",
       "       [0., 0., 0., 1.],\n",
       "       [0., 0., 0., 1.],\n",
       "       [0., 0., 1., 0.],\n",
       "       [0., 0., 1., 0.],\n",
       "       [1., 0., 0., 0.],\n",
       "       [1., 0., 0., 0.],\n",
       "       [0., 0., 1., 0.],\n",
       "       [0., 0., 0., 1.],\n",
       "       [0., 0., 0., 1.],\n",
       "       [1., 0., 0., 0.],\n",
       "       [0., 0., 1., 0.],\n",
       "       [1., 0., 0., 0.],\n",
       "       [1., 0., 0., 0.],\n",
       "       [0., 1., 0., 0.],\n",
       "       [0., 1., 0., 0.],\n",
       "       [0., 1., 0., 0.],\n",
       "       [0., 0., 0., 1.],\n",
       "       [0., 0., 1., 0.],\n",
       "       [0., 0., 1., 0.],\n",
       "       [0., 0., 1., 0.],\n",
       "       [0., 0., 1., 0.],\n",
       "       [0., 1., 0., 0.],\n",
       "       [0., 0., 0., 1.],\n",
       "       [0., 0., 0., 1.],\n",
       "       [0., 1., 0., 0.],\n",
       "       [0., 0., 0., 1.],\n",
       "       [0., 1., 0., 0.],\n",
       "       [0., 0., 1., 0.],\n",
       "       [0., 1., 0., 0.],\n",
       "       [0., 0., 1., 0.],\n",
       "       [0., 0., 1., 0.],\n",
       "       [1., 0., 0., 0.],\n",
       "       [0., 1., 0., 0.],\n",
       "       [1., 0., 0., 0.],\n",
       "       [0., 1., 0., 0.],\n",
       "       [0., 1., 0., 0.]])"
      ]
     },
     "execution_count": 22,
     "metadata": {},
     "output_type": "execute_result"
    }
   ],
   "source": [
    "input_features[0]"
   ]
  },
  {
   "cell_type": "markdown",
   "metadata": {},
   "source": [
    "We'll one-hot-encode the labels too."
   ]
  },
  {
   "cell_type": "code",
   "execution_count": 23,
   "metadata": {},
   "outputs": [],
   "source": [
    "oh_labels = ohe.fit_transform(np.array(labels).reshape(-1, 1)).toarray()"
   ]
  },
  {
   "cell_type": "code",
   "execution_count": 24,
   "metadata": {
    "scrolled": true
   },
   "outputs": [
    {
     "data": {
      "text/plain": [
       "array([[1., 0.],\n",
       "       [1., 0.],\n",
       "       [1., 0.],\n",
       "       [0., 1.],\n",
       "       [0., 1.]])"
      ]
     },
     "execution_count": 24,
     "metadata": {},
     "output_type": "execute_result"
    }
   ],
   "source": [
    "oh_labels[:5]"
   ]
  },
  {
   "cell_type": "markdown",
   "metadata": {},
   "source": [
    "### Dividing into training and test sets "
   ]
  },
  {
   "cell_type": "code",
   "execution_count": 25,
   "metadata": {},
   "outputs": [],
   "source": [
    "from sklearn.model_selection import train_test_split"
   ]
  },
  {
   "cell_type": "code",
   "execution_count": 26,
   "metadata": {},
   "outputs": [],
   "source": [
    "train_features, test_features, train_labels, test_labels = train_test_split(\n",
    "    input_features, oh_labels, test_size=0.25)"
   ]
  },
  {
   "cell_type": "markdown",
   "metadata": {},
   "source": [
    "### Building a CNN"
   ]
  },
  {
   "cell_type": "code",
   "execution_count": 27,
   "metadata": {},
   "outputs": [],
   "source": [
    "from tensorflow.keras.layers import Conv1D, Dense, MaxPooling1D, Flatten\n",
    "from tensorflow.keras.models import Sequential"
   ]
  },
  {
   "cell_type": "markdown",
   "metadata": {},
   "source": [
    "Here's the architecture suggested by Zou et al."
   ]
  },
  {
   "cell_type": "code",
   "execution_count": 28,
   "metadata": {},
   "outputs": [
    {
     "name": "stdout",
     "output_type": "stream",
     "text": [
      "Model: \"sequential\"\n",
      "_________________________________________________________________\n",
      "Layer (type)                 Output Shape              Param #   \n",
      "=================================================================\n",
      "conv1d (Conv1D)              (None, 39, 32)            1568      \n",
      "_________________________________________________________________\n",
      "max_pooling1d (MaxPooling1D) (None, 9, 32)             0         \n",
      "_________________________________________________________________\n",
      "flatten (Flatten)            (None, 288)               0         \n",
      "_________________________________________________________________\n",
      "dense (Dense)                (None, 16)                4624      \n",
      "_________________________________________________________________\n",
      "dense_1 (Dense)              (None, 2)                 34        \n",
      "=================================================================\n",
      "Total params: 6,226\n",
      "Trainable params: 6,226\n",
      "Non-trainable params: 0\n",
      "_________________________________________________________________\n"
     ]
    }
   ],
   "source": [
    "model = Sequential()\n",
    "model.add(Conv1D(filters=32, kernel_size=12, \n",
    "                 input_shape=(train_features.shape[1:])))\n",
    "model.add(MaxPooling1D(pool_size=4))\n",
    "model.add(Flatten())\n",
    "model.add(Dense(16, activation='relu'))\n",
    "model.add(Dense(2, activation='softmax'))\n",
    "\n",
    "model.compile(loss='binary_crossentropy', optimizer='adam', \n",
    "              metrics=['binary_accuracy'])\n",
    "model.summary()"
   ]
  },
  {
   "cell_type": "markdown",
   "metadata": {},
   "source": [
    "**Stop and check**: do we understand the parameter counts? Do we understand the output shapes?"
   ]
  },
  {
   "cell_type": "code",
   "execution_count": 29,
   "metadata": {},
   "outputs": [
    {
     "name": "stdout",
     "output_type": "stream",
     "text": [
      "Train on 1125 samples, validate on 375 samples\n",
      "Epoch 1/13\n",
      "1125/1125 [==============================] - 1s 746us/sample - loss: 0.6881 - binary_accuracy: 0.5653 - val_loss: 0.6595 - val_binary_accuracy: 0.6560\n",
      "Epoch 2/13\n",
      "1125/1125 [==============================] - 0s 139us/sample - loss: 0.6223 - binary_accuracy: 0.7129 - val_loss: 0.5719 - val_binary_accuracy: 0.7573\n",
      "Epoch 3/13\n",
      "1125/1125 [==============================] - 0s 112us/sample - loss: 0.5158 - binary_accuracy: 0.7893 - val_loss: 0.4829 - val_binary_accuracy: 0.7813\n",
      "Epoch 4/13\n",
      "1125/1125 [==============================] - 0s 151us/sample - loss: 0.4305 - binary_accuracy: 0.8231 - val_loss: 0.4150 - val_binary_accuracy: 0.8187\n",
      "Epoch 5/13\n",
      "1125/1125 [==============================] - 0s 121us/sample - loss: 0.3656 - binary_accuracy: 0.8444 - val_loss: 0.3693 - val_binary_accuracy: 0.8507\n",
      "Epoch 6/13\n",
      "1125/1125 [==============================] - 0s 115us/sample - loss: 0.3250 - binary_accuracy: 0.8720 - val_loss: 0.3515 - val_binary_accuracy: 0.8293\n",
      "Epoch 7/13\n",
      "1125/1125 [==============================] - 0s 113us/sample - loss: 0.2864 - binary_accuracy: 0.8916 - val_loss: 0.3165 - val_binary_accuracy: 0.8880\n",
      "Epoch 8/13\n",
      "1125/1125 [==============================] - 0s 171us/sample - loss: 0.2513 - binary_accuracy: 0.9147 - val_loss: 0.3568 - val_binary_accuracy: 0.8080\n",
      "Epoch 9/13\n",
      "1125/1125 [==============================] - 0s 298us/sample - loss: 0.2500 - binary_accuracy: 0.9111 - val_loss: 0.2796 - val_binary_accuracy: 0.8987\n",
      "Epoch 10/13\n",
      "1125/1125 [==============================] - 0s 159us/sample - loss: 0.2164 - binary_accuracy: 0.9218 - val_loss: 0.3948 - val_binary_accuracy: 0.7867\n",
      "Epoch 11/13\n",
      "1125/1125 [==============================] - 0s 145us/sample - loss: 0.2103 - binary_accuracy: 0.9147 - val_loss: 0.2654 - val_binary_accuracy: 0.8933\n",
      "Epoch 12/13\n",
      "1125/1125 [==============================] - 0s 196us/sample - loss: 0.1748 - binary_accuracy: 0.9440 - val_loss: 0.2631 - val_binary_accuracy: 0.9067\n",
      "Epoch 13/13\n",
      "1125/1125 [==============================] - 0s 121us/sample - loss: 0.1615 - binary_accuracy: 0.9520 - val_loss: 0.2702 - val_binary_accuracy: 0.8827\n"
     ]
    },
    {
     "data": {
      "image/png": "[encoded data removed]",
      "text/plain": [
       "<Figure size 432x288 with 1 Axes>"
      ]
     },
     "metadata": {
      "needs_background": "light"
     },
     "output_type": "display_data"
    }
   ],
   "source": [
    "progress = model.fit(train_features, train_labels, \n",
    "                    epochs=13, verbose=1, validation_split=0.25)\n",
    "plt.figure()\n",
    "plt.plot(progress.history['loss'])\n",
    "plt.plot(progress.history['val_loss'])\n",
    "plt.title('model loss')\n",
    "plt.ylabel('loss')\n",
    "plt.xlabel('epoch')\n",
    "plt.legend(['train', 'validation'])\n",
    "plt.show()"
   ]
  },
  {
   "cell_type": "markdown",
   "metadata": {},
   "source": [
    "**Question**: was 13 epochs enough? Should we continue training?"
   ]
  },
  {
   "cell_type": "markdown",
   "metadata": {},
   "source": [
    "**Question**: why haven't we touched the test data yet? (Remember, we split our data into training and test sets above -- but we didn't use the test set in the model fitting procedure. The 'validation' plot is based on cross validation *within* the training set.)"
   ]
  },
  {
   "cell_type": "markdown",
   "metadata": {},
   "source": [
    "### Evaluating the model as a classifier"
   ]
  },
  {
   "cell_type": "code",
   "execution_count": 30,
   "metadata": {},
   "outputs": [
    {
     "data": {
      "text/plain": [
       "[0.30566756105422976, 0.868]"
      ]
     },
     "execution_count": 30,
     "metadata": {},
     "output_type": "execute_result"
    }
   ],
   "source": [
    "# returns test loss, test accuracy\n",
    "model.evaluate(test_features, test_labels, verbose=0)"
   ]
  },
  {
   "cell_type": "markdown",
   "metadata": {},
   "source": [
    "Fairly similar to results on training set.\n",
    "\n",
    "(That was a pretty minimal evaluation. Really we should dig into the confusion matrix. What *kinds* of mistakes is our classifier making? False positives? False negatives?)"
   ]
  },
  {
   "cell_type": "markdown",
   "metadata": {},
   "source": [
    "### Mid-day lab (approx. 11.30-2)"
   ]
  },
  {
   "cell_type": "markdown",
   "metadata": {},
   "source": [
    "Is a CNN really the right way to go here? Try building (a) fully-connected feed-forward NN with a similar number of free parameters to the CNN above; (b) a fully-connected feed-forward NN with substantially more free parameters than the CNN above; (c) any other fully-connected architectures you're curious about. Do your alternatives perform better or worse than Zou et al.'s CNN? Think carefully about how you are measuring performance.\n",
    "\n",
    "If you have time, try tinkering with the CNN architecture too. Can you get better performance by expanding the layers? By adding another layer or two?"
   ]
  },
  {
   "cell_type": "markdown",
   "metadata": {},
   "source": [
    "### Partial solution to lab: Building a fully-connected FFNN"
   ]
  },
  {
   "cell_type": "code",
   "execution_count": 31,
   "metadata": {},
   "outputs": [],
   "source": [
    "flat_train_features = np.array([vec.flatten() for vec in train_features])"
   ]
  },
  {
   "cell_type": "code",
   "execution_count": 32,
   "metadata": {},
   "outputs": [
    {
     "data": {
      "text/plain": [
       "(1500, 200)"
      ]
     },
     "execution_count": 32,
     "metadata": {},
     "output_type": "execute_result"
    }
   ],
   "source": [
    "flat_train_features.shape"
   ]
  },
  {
   "cell_type": "code",
   "execution_count": 33,
   "metadata": {
    "scrolled": false
   },
   "outputs": [
    {
     "name": "stdout",
     "output_type": "stream",
     "text": [
      "Model: \"sequential_1\"\n",
      "_________________________________________________________________\n",
      "Layer (type)                 Output Shape              Param #   \n",
      "=================================================================\n",
      "dense_2 (Dense)              (None, 30)                6030      \n",
      "_________________________________________________________________\n",
      "dense_3 (Dense)              (None, 20)                620       \n",
      "_________________________________________________________________\n",
      "dense_4 (Dense)              (None, 2)                 42        \n",
      "=================================================================\n",
      "Total params: 6,692\n",
      "Trainable params: 6,692\n",
      "Non-trainable params: 0\n",
      "_________________________________________________________________\n"
     ]
    }
   ],
   "source": [
    "model2 = Sequential()\n",
    "model2.add(Dense(30, activation='relu', input_shape=(flat_train_features.shape[1],)))\n",
    "model2.add(Dense(20, activation='relu'))\n",
    "model2.add(Dense(2, activation='softmax'))\n",
    "model2.compile(loss='binary_crossentropy', optimizer='adam', \n",
    "              metrics=['binary_accuracy'])\n",
    "model2.summary()"
   ]
  },
  {
   "cell_type": "code",
   "execution_count": 34,
   "metadata": {},
   "outputs": [
    {
     "name": "stdout",
     "output_type": "stream",
     "text": [
      "Train on 1125 samples, validate on 375 samples\n",
      "Epoch 1/12\n",
      "1125/1125 [==============================] - 1s 771us/sample - loss: 0.6981 - binary_accuracy: 0.5298 - val_loss: 0.6883 - val_binary_accuracy: 0.5600\n",
      "Epoch 2/12\n",
      "1125/1125 [==============================] - 0s 168us/sample - loss: 0.6592 - binary_accuracy: 0.6160 - val_loss: 0.6771 - val_binary_accuracy: 0.5813\n",
      "Epoch 3/12\n",
      "1125/1125 [==============================] - 0s 202us/sample - loss: 0.6207 - binary_accuracy: 0.6729 - val_loss: 0.6581 - val_binary_accuracy: 0.6160\n",
      "Epoch 4/12\n",
      "1125/1125 [==============================] - 0s 201us/sample - loss: 0.5733 - binary_accuracy: 0.7191 - val_loss: 0.6306 - val_binary_accuracy: 0.6533\n",
      "Epoch 5/12\n",
      "1125/1125 [==============================] - 0s 231us/sample - loss: 0.5239 - binary_accuracy: 0.7538 - val_loss: 0.6151 - val_binary_accuracy: 0.6667\n",
      "Epoch 6/12\n",
      "1125/1125 [==============================] - 0s 155us/sample - loss: 0.4686 - binary_accuracy: 0.8053 - val_loss: 0.6006 - val_binary_accuracy: 0.6907\n",
      "Epoch 7/12\n",
      "1125/1125 [==============================] - 0s 108us/sample - loss: 0.4374 - binary_accuracy: 0.8036 - val_loss: 0.6002 - val_binary_accuracy: 0.6880\n",
      "Epoch 8/12\n",
      "1125/1125 [==============================] - 0s 147us/sample - loss: 0.4023 - binary_accuracy: 0.8267 - val_loss: 0.6150 - val_binary_accuracy: 0.6720\n",
      "Epoch 9/12\n",
      "1125/1125 [==============================] - 0s 184us/sample - loss: 0.3589 - binary_accuracy: 0.8738 - val_loss: 0.6116 - val_binary_accuracy: 0.7067\n",
      "Epoch 10/12\n",
      "1125/1125 [==============================] - 0s 181us/sample - loss: 0.3198 - binary_accuracy: 0.8871 - val_loss: 0.6287 - val_binary_accuracy: 0.6960\n",
      "Epoch 11/12\n",
      "1125/1125 [==============================] - 0s 115us/sample - loss: 0.2913 - binary_accuracy: 0.9022 - val_loss: 0.6414 - val_binary_accuracy: 0.7067\n",
      "Epoch 12/12\n",
      "1125/1125 [==============================] - 0s 144us/sample - loss: 0.2603 - binary_accuracy: 0.9209 - val_loss: 0.6606 - val_binary_accuracy: 0.6880\n"
     ]
    },
    {
     "data": {
      "image/png": "[encoded data removed]",
      "text/plain": [
       "<Figure size 432x288 with 1 Axes>"
      ]
     },
     "metadata": {
      "needs_background": "light"
     },
     "output_type": "display_data"
    }
   ],
   "source": [
    "progress2 = model2.fit(flat_train_features, train_labels, \n",
    "                    epochs=12, verbose=1, validation_split=0.25)\n",
    "plt.figure()\n",
    "plt.plot(progress2.history['loss'])\n",
    "plt.plot(progress2.history['val_loss'])\n",
    "plt.title('model loss')\n",
    "plt.ylabel('loss')\n",
    "plt.xlabel('epoch')\n",
    "plt.legend(['train', 'validation'])\n",
    "plt.show()"
   ]
  },
  {
   "cell_type": "markdown",
   "metadata": {},
   "source": [
    "That is an interesting plot. Our FFNN is more prone than our CNN to overfitting. Why do you think this might be? (Hint: think about the structure of the biological problem.)"
   ]
  },
  {
   "cell_type": "markdown",
   "metadata": {},
   "source": [
    "### Late afternoon lab (approx. 3-4.15)"
   ]
  },
  {
   "cell_type": "markdown",
   "metadata": {},
   "source": [
    "Can you somehow use a trained model -- Zou et al.'s or perhaps one of your own -- to pin down the binding motif? Between the two lab sessions, we'll talk about some strategies for tackling this problem."
   ]
  },
  {
   "cell_type": "markdown",
   "metadata": {},
   "source": [
    "### Partial solution to lab: making saliency plots"
   ]
  },
  {
   "cell_type": "markdown",
   "metadata": {},
   "source": [
    "Consider a DNA sequence that our CNN (correctly) recognizes as a positive case. What impact does any given nuceleotide in the sequence have on the CNN's degree of confidence? We can measure that by disrupting the nucleotide in question and getting the CNN to recompute its degree of confidence. The decrease in confidence is the *saliency* of that nucleotide.\n",
    "\n",
    "How do we 'disrupt' a nucleotide? There are various things one might do, but perhaps the simplest is to replace the one-hot encoding by a vector with a 0 where the 1 used to be, and 1/3 everywhere else. Effectively we are telling the CNN that the nucleotide definitely isn't what it was originally: it's one of the other three types, with uniform probability."
   ]
  },
  {
   "cell_type": "code",
   "execution_count": 35,
   "metadata": {},
   "outputs": [],
   "source": [
    "def saliency_of_site(trained_model, feature_vector, site):\n",
    "    # computes saliency of site in feature vector\n",
    "    current_probability = trained_model.predict(np.array([feature_vector]))[0][1]\n",
    "    perturbed_vector = np.copy(feature_vector)\n",
    "    perturbed_vector[site,:] = (1 - perturbed_vector[site,:])/3\n",
    "    perturbed_probability = trained_model.predict(np.array([perturbed_vector]))[0][1]\n",
    "    return current_probability - perturbed_probability"
   ]
  },
  {
   "cell_type": "code",
   "execution_count": 36,
   "metadata": {},
   "outputs": [],
   "source": [
    "def saliency_plot(trained_model, index_of_DNA_sample):\n",
    "    '''\n",
    "    Plot saliency map for given DNA sequence\n",
    "    NB this function makes use of global variables defined above: the raw data (sequences)\n",
    "    and its preprocessed analogue (input_features).\n",
    "    '''\n",
    "    feature_vector = input_features[index_of_DNA_sample]\n",
    "    saliency_scores = [saliency_of_site(model, feature_vector, i) for i in range(len(feature_vector))]\n",
    "    plt.figure(figsize=[15,5])\n",
    "    _ = plt.bar(range(len(saliency_scores)), saliency_scores)\n",
    "    _ = plt.xlabel('bases')\n",
    "    _ = plt.ylabel('saliency')\n",
    "    _ = plt.xticks(range(len(saliency_scores)), sequences[index_of_DNA_sample])"
   ]
  },
  {
   "cell_type": "markdown",
   "metadata": {},
   "source": [
    "Reminder of some of the labels:"
   ]
  },
  {
   "cell_type": "code",
   "execution_count": 37,
   "metadata": {
    "scrolled": true
   },
   "outputs": [
    {
     "data": {
      "text/plain": [
       "[(0, '0'),\n",
       " (1, '0'),\n",
       " (2, '0'),\n",
       " (3, '1'),\n",
       " (4, '1'),\n",
       " (5, '1'),\n",
       " (6, '1'),\n",
       " (7, '0'),\n",
       " (8, '0'),\n",
       " (9, '0')]"
      ]
     },
     "execution_count": 37,
     "metadata": {},
     "output_type": "execute_result"
    }
   ],
   "source": [
    "list(enumerate(labels[:10]))"
   ]
  },
  {
   "cell_type": "markdown",
   "metadata": {},
   "source": [
    "Now let's plot saliency maps for a couple of positively classified examples."
   ]
  },
  {
   "cell_type": "code",
   "execution_count": 38,
   "metadata": {},
   "outputs": [
    {
     "data": {
      "image/png": "[encoded data removed]",
      "text/plain": [
       "<Figure size 1080x360 with 1 Axes>"
      ]
     },
     "metadata": {
      "needs_background": "light"
     },
     "output_type": "display_data"
    }
   ],
   "source": [
    "saliency_plot(model, 3)"
   ]
  },
  {
   "cell_type": "code",
   "execution_count": 39,
   "metadata": {},
   "outputs": [
    {
     "data": {
      "image/png": "[encoded data removed]",
      "text/plain": [
       "<Figure size 1080x360 with 1 Axes>"
      ]
     },
     "metadata": {
      "needs_background": "light"
     },
     "output_type": "display_data"
    }
   ],
   "source": [
    "saliency_plot(model, 4)"
   ]
  },
  {
   "cell_type": "markdown",
   "metadata": {},
   "source": [
    "It seems 'CGACCGAACT' is an important part of the binding motif."
   ]
  },
  {
   "cell_type": "markdown",
   "metadata": {},
   "source": [
    "It's worth checking what saliency maps for negative examples look like."
   ]
  },
  {
   "cell_type": "code",
   "execution_count": 40,
   "metadata": {
    "scrolled": true
   },
   "outputs": [
    {
     "data": {
      "image/png": "[encoded data removed]",
      "text/plain": [
       "<Figure size 1080x360 with 1 Axes>"
      ]
     },
     "metadata": {
      "needs_background": "light"
     },
     "output_type": "display_data"
    }
   ],
   "source": [
    "saliency_plot(model, 0)"
   ]
  },
  {
   "cell_type": "code",
   "execution_count": 41,
   "metadata": {},
   "outputs": [
    {
     "data": {
      "image/png": "[encoded data removed]",
      "text/plain": [
       "<Figure size 1080x360 with 1 Axes>"
      ]
     },
     "metadata": {
      "needs_background": "light"
     },
     "output_type": "display_data"
    }
   ],
   "source": [
    "saliency_plot(model, 1)"
   ]
  },
  {
   "cell_type": "markdown",
   "metadata": {},
   "source": [
    "Notice the y-axis scale: at least an order of magnitude smaller than for the positive cases. Individual nucleotides are now much less salient. This makes sense. The 'signature' of a negative case is the absence of a specific contiguous sequence (the motif). All the nucleotides in a negative case contribute roughly equally to that absence!"
   ]
  }
 ],
 "metadata": {
  "kernelspec": {
   "display_name": "Python [conda env:tf]",
   "language": "python",
   "name": "conda-env-tf-py"
  },
  "language_info": {
   "codemirror_mode": {
    "name": "ipython",
    "version": 3
   },
   "file_extension": ".py",
   "mimetype": "text/x-python",
   "name": "python",
   "nbconvert_exporter": "python",
   "pygments_lexer": "ipython3",
   "version": "3.7.7"
  }
 },
 "nbformat": 4,
 "nbformat_minor": 2
}
